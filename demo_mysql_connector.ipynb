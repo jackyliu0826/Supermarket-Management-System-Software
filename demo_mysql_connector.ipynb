{
 "cells": [
  {
   "cell_type": "code",
   "execution_count": 68,
   "metadata": {},
   "outputs": [
    {
     "name": "stdout",
     "output_type": "stream",
     "text": [
      "(1, 'name1', 2, 3)\n",
      "(2, 'name1', 2, 3)\n",
      "(3, 'name1', 2, 3)\n",
      "(4, 'name1', 2, 3)\n",
      "(5, 'name1', 2, 3)\n",
      "(6, 'name1', 2, 3)\n",
      "(7, 'name1', 2, 3)\n",
      "(8, 'name1', 2, 3)\n",
      "(9, 'name1', 2, 3)\n",
      "(10, 'name1', 2, 3)\n",
      "(11, 'name1', 2, 3)\n"
     ]
    }
   ],
   "source": [
    "import mysql.connector\n",
    "from mysql.connector import Error\n",
    "\n",
    "mydb = mysql.connector.connect(\n",
    "    host = \"localhost\",\n",
    "    user = \"root\",\n",
    "    password = \"3331415927Lxj-\"\n",
    ")\n",
    "mycursor = mydb.cursor()\n",
    "mycursor.execute(\"CREATE DATABASE IF NOT EXISTS goods_database\")\n",
    "mydb = mysql.connector.connect(\n",
    "    host = \"localhost\",\n",
    "    user = \"root\",\n",
    "    password = \"3331415927Lxj-\",\n",
    "    database = \"goods_database\"\n",
    ")\n",
    "mycursor = mydb.cursor()\n",
    "\n",
    "create = \"CREATE TABLE IF NOT EXISTS goods_table (id INT AUTO_INCREMENT PRIMARY KEY, name VARCHAR(255), price INT(8), quantity INT(8))\"\n",
    "mycursor.execute(create)\n",
    "name2 = \"name1\"\n",
    "price1 = 2\n",
    "quantity1 = 3\n",
    "sql = \"INSERT INTO goods_table (name, price, quantity) values (%s, %s, %s)\"\n",
    "val = (name1, price1, quantity1)\n",
    "mycursor.execute(sql, val)\n",
    "mydb.commit()\n",
    "mycursor.execute(\"select * from goods_table where name like %s \", (name2,))\n",
    "myresult = mycursor.fetchall()\n",
    "\n",
    "for x in myresult:\n",
    "    print (x)"
   ]
  },
  {
   "cell_type": "code",
   "execution_count": null,
   "metadata": {},
   "outputs": [],
   "source": []
  },
  {
   "cell_type": "code",
   "execution_count": null,
   "metadata": {},
   "outputs": [],
   "source": []
  }
 ],
 "metadata": {
  "kernelspec": {
   "display_name": "Python 3",
   "language": "python",
   "name": "python3"
  },
  "language_info": {
   "codemirror_mode": {
    "name": "ipython",
    "version": 3
   },
   "file_extension": ".py",
   "mimetype": "text/x-python",
   "name": "python",
   "nbconvert_exporter": "python",
   "pygments_lexer": "ipython3",
   "version": "3.7.3"
  }
 },
 "nbformat": 4,
 "nbformat_minor": 2
}
